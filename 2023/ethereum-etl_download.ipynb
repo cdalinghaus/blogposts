{
 "cells": [
  {
   "cell_type": "raw",
   "id": "7759dc5a-651c-421b-8b07-e86fcf3bef22",
   "metadata": {},
   "source": [
    "%META\n",
    "title=Ethereum-etl data download\n",
    "excerpt=Download block and transaction data from the ethereum blockchain for data analysis\n",
    "tags=ethereum-etl, download, data, blocks, transactions\n",
    "categories=datasets"
   ]
  },
  {
   "cell_type": "markdown",
   "id": "7afeef5e-fa58-4b0c-90d4-e634f1fb2bba",
   "metadata": {},
   "source": [
    "Hosting an ethereum node for data analysis is. tedious. This is why I'm making block and transaction exports from the first 10 million blocks available on this site. More data will likely be available soon.  \n",
    "  \n",
    "The data was extracted using [ethereum-etl](https://github.com/blockchain-etl/ethereum-etl).  \n",
    "Questions? [blockchaindata1@protonmail.com](mailto:blockchaindata1@protonmail.com)  \n",
    "  \n",
    "Happy data analysis :)  "
   ]
  },
  {
   "cell_type": "markdown",
   "id": "f434b402-bb21-485e-8c97-788a7a4020f4",
   "metadata": {
    "tags": []
   },
   "source": [
    "### Blocks and transactions\n",
    "These are full block and transaction data dumps, organized in batches of one million blocks.\n",
    "  \n",
    "| | Blocks | filesize | Transactions | filesize |\n",
    "|--|--|--|--|--|\n",
    "| 5.000.000 - 6.000.000 | [blocks5000000-6000000.csv](https://data.applieddatascience.blog/ads-data-public/ethereum-etl/blocks/blocks5000000-6000000.csv) | 1.1 GB       |       [transactions5000000-6000000.csv](https://data.applieddatascience.blog/ads-data-public/ethereum-etl/transactions/transactions5000000-6000000.csv)       |         48 GB          |\n",
    "| 6.000.000 - 7.000.000 | [blocks6000000-7000000.csv](https://data.applieddatascience.blog/ads-data-public/ethereum-etl/blocks/blocks6000000-7000000.csv) | 1.1 GB       |       [transactions6000000-7000000.csv](https://data.applieddatascience.blog/ads-data-public/ethereum-etl/transactions/transactions6000000-7000000.csv)       |         42.7 GB          |\n",
    "| 7.000.000 - 8.000.000 | [blocks7000000-8000000.csv](https://data.applieddatascience.blog/ads-data-public/ethereum-etl/blocks/blocks7000000-8000000.csv) | 1.1 GB       |       [transactions7000000-8000000.csv](https://data.applieddatascience.blog/ads-data-public/ethereum-etl/transactions/transactions7000000-8000000.csv)       |         45.1 GB          |\n",
    "| 8.000.000 - 9.000.000 | [blocks8000000-9000000.csv](https://data.applieddatascience.blog/ads-data-public/ethereum-etl/blocks/blocks8000000-9000000.csv) | 1.1 GB       |       [transactions8000000-9000000.csv](https://data.applieddatascience.blog/ads-data-public/ethereum-etl/transactions/transactions8000000-9000000.csv)       |         - GB          |\n"
   ]
  },
  {
   "cell_type": "markdown",
   "id": "97387c12-b008-4f36-ae82-e67c6c69af47",
   "metadata": {},
   "source": [
    "### Sample data\n",
    "Small data samples for blocks and transactions files\n",
    "  \n",
    "|                 | Blocks                                                                                                                          | filesize | Transactions | filesize |\n",
    "|-----------------|---------------------------------------------------------------------------------------------------------------------------------|-------------|--------------|-------------------|\n",
    "| sample | [blocks_sample.csv](https://data.applieddatascience.blog/ads-data-public/ethereum-etl/blocks/blocks_sample.csv) | 1.1 MB       |       [transactions_sample.csv](https://data.applieddatascience.blog/ads-data-public/ethereum-etl/transactions/transactions_sample.csv)       |         390 KB          |"
   ]
  }
 ],
 "metadata": {
  "kernelspec": {
   "display_name": "Python 3 (ipykernel)",
   "language": "python",
   "name": "python3"
  },
  "language_info": {
   "codemirror_mode": {
    "name": "ipython",
    "version": 3
   },
   "file_extension": ".py",
   "mimetype": "text/x-python",
   "name": "python",
   "nbconvert_exporter": "python",
   "pygments_lexer": "ipython3",
   "version": "3.10.6"
  }
 },
 "nbformat": 4,
 "nbformat_minor": 5
}
