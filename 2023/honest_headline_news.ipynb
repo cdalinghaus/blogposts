{
 "cells": [
  {
   "cell_type": "raw",
   "id": "7759dc5a-651c-421b-8b07-e86fcf3bef22",
   "metadata": {},
   "source": [
    "%META\n",
    "title=Making news headlines more honest - /r/honestheadlinenews\n",
    "excerpt=Explore the journey of combating misleading headlines through an innovative solution - an active news aggregator. By employing GPT-4, /r/honestheadlinenews aims to replace sensationalist headlines with unbiased, informative ones, providing a refreshing news reading experience devoid of clickbait frustration.\n",
    "tags=News,Headlines,Clickbait,News Aggregation,GPT-4,Honest Headlines,Innovation\n",
    "categories=Technology,Journalism,Online Communities,chatGPT,GPT-4"
   ]
  },
  {
   "cell_type": "markdown",
   "id": "f83744e4-5e8a-4551-b3d5-1e79e710f224",
   "metadata": {},
   "source": [
    "***Because sometimes, you don't have to click a headline to be informed***.\n",
    "\n",
    "***UPDATE***: This is now an actual news reader, available at [https://honestheadline.news/](https://honestheadline.news/)  \n",
    "  \n",
    "I've felt for a long time that authors of news articles shouldn't be the ones to write the headlines. Their primary incentive is to directly or indirectly earn money through ads - their performance is usually measured in just that: clicks. This promotes toxic patterns that usually result in horrible clickbait.  \n",
    "Users have little to no leverage over how these headlines are written. They have no recourse, can't retaliate after being click-baited.  \n",
    "  \n",
    "### The History (Why fixing this is hard)\n",
    "Until recently, there has been no way to improve on this. Reading and comprehending a text by a computer program was not possible and rewriting headlines manually after reading required a lot of work with no real incentive to do so.  \n",
    "User-submitted headlines improve this somewhat (think /r/news) but humans are also subject to all sorts of biases and usually have their own reasons and ideas for why they are submitting a post to an online forum in the first place.\n",
    "\n",
    "### The solution (A middleman)\n",
    "I propose an ***active news aggregator*** as the solution. Think Google News, but every article is read and a new, informative and balanced headline is handcrafted for every article. The incentive to generate lots of traffic on the link would be absent from this middleman. People would hopefully visist the news aggregator because of the informative collection of news and the less frustrating experience of news reading. At least that's the idea.  \n",
    "Thinking further, this could indirectly improve on the articles as well. With  authors being incentivised to write high quality, informative news articles for humans, not for Search Engines and Twitter feeds.\n",
    "  \n",
    "  I am currently trying out a version of this at ***/r/honestheadlinenews***. A bot scrapes every article posted to /r/news and uses GPT-4 to write a new, hopefully informative headline for the article.\n",
    "\n",
    "### The Prompt (Prompt disclosure)\n",
    "Currently, I use the following text as a system prompt to GPT-4. The idea is to make it unbiased-ish but first and foremost informative.\n",
    "\n",
    "System prompt:\n",
    ">I will paste an article to you. Please write a headline for it that is as neutral and informative as possible. The reason you are doing this is that the headline originally may have been terrible clickbait with low informative value, and we want to get a very neutral and informative headline.\n",
    ">\n",
    ">Someone who reads the headline should not be disappointed after clicking on it.  \n",
    ">The headline should contain the most important facts, so the reader has a good idea what's going on even when he does not have the time to read the full article.  \n",
    ">Please respond in the appropriate language for the article.\n",
    "\n",
    "I then just paste in the article as a user message and take the chatGPT response as a new headline."
   ]
  }
 ],
 "metadata": {
  "kernelspec": {
   "display_name": "Python 3 (ipykernel)",
   "language": "python",
   "name": "python3"
  },
  "language_info": {
   "codemirror_mode": {
    "name": "ipython",
    "version": 3
   },
   "file_extension": ".py",
   "mimetype": "text/x-python",
   "name": "python",
   "nbconvert_exporter": "python",
   "pygments_lexer": "ipython3",
   "version": "3.10.12"
  }
 },
 "nbformat": 4,
 "nbformat_minor": 5
}
