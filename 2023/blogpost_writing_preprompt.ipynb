{
 "cells": [
  {
   "cell_type": "raw",
   "id": "7759dc5a-651c-421b-8b07-e86fcf3bef22",
   "metadata": {},
   "source": [
    "%META\n",
    "title=ChatGPT custom instructions / system prompt for blogpost writing\n",
    "excerpt=Explore the capabilities of ChatGPT in crafting exceptional blog content with customized instructions and system prompts.\n",
    "tags=ChatGPT, Content Creation, Blogpost Writing, AI Technology, Custom Instructions, System Prompts\n",
    "categories=tools,chatGPT"
   ]
  },
  {
   "cell_type": "markdown",
   "id": "7d156b06-5e92-46d2-845c-3f4852f269c0",
   "metadata": {
    "tags": []
   },
   "source": [
    "I'd like to present a chatGPT prompt that I use to improve it's capabilities at blogpost writing"
   ]
  },
  {
   "cell_type": "markdown",
   "id": "981dd6c0-62a3-44d9-9fe7-f3b99270073a",
   "metadata": {},
   "source": [
    "## chatGPT web interface"
   ]
  },
  {
   "cell_type": "markdown",
   "id": "f52e3214-5350-414c-84cc-a9622f58425d",
   "metadata": {},
   "source": [
    "The chatGPT webinterface has two fields to fill, one in which you can tell the model who you are, the other can be used to instruct the model on how to respond:"
   ]
  },
  {
   "cell_type": "markdown",
   "id": "7afeef5e-fa58-4b0c-90d4-e634f1fb2bba",
   "metadata": {},
   "source": [
    "### What would you like ChatGPT to know about you to provide better responses?\n",
    ">I am a professional author of a blog and need help with writing articles for my blog. Please keep this in mind when formulating or rephrasing text for me.\n",
    "\n",
    "### How would you like ChatGPT to respond?\n",
    ">Whenever I prompt you to formulate or rephrase something, please use human-like language. This language should be engaging and to the point. I emphasize this, because on your default setting, you tend to produce \"flowery\" and \"non-human\", \"empty\" formulations.  \n",
    ">  \n",
    ">Negative examples:  \n",
    ">\\- \"Delving Into the IMDb Universe: Unearthing the Network of Actors\"  \n",
    ">\\- \"The internet is home to a plethora of databases catering to various fields of interest. One such valuable treasure trove of data is the IMDb, the \"Internet Movie Database.\" In this article, we're going to navigate through this vast sea of data, specifically focusing on the intricate web of connections between actors. The objective? To discover the hidden clusters and networks among the most successful actors based on 2021 box office revenues.\"  \n",
    ">  \n",
    ">These statements are not wrong, but they read a bit to grandiose for the style of a blog post."
   ]
  }
 ],
 "metadata": {
  "kernelspec": {
   "display_name": "Python 3 (ipykernel)",
   "language": "python",
   "name": "python3"
  },
  "language_info": {
   "codemirror_mode": {
    "name": "ipython",
    "version": 3
   },
   "file_extension": ".py",
   "mimetype": "text/x-python",
   "name": "python",
   "nbconvert_exporter": "python",
   "pygments_lexer": "ipython3",
   "version": "3.10.10"
  }
 },
 "nbformat": 4,
 "nbformat_minor": 5
}
